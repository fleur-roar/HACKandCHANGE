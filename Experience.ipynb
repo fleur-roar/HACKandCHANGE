{
 "cells": [
  {
   "cell_type": "code",
   "execution_count": 11,
   "metadata": {},
   "outputs": [],
   "source": [
    "import findspark\n",
    "findspark.init()"
   ]
  },
  {
   "cell_type": "code",
   "execution_count": 12,
   "metadata": {},
   "outputs": [],
   "source": [
    "import pyspark # only run after findspark.init()\n",
    "from pyspark.sql import SparkSession\n",
    "from pyspark.sql.functions import col\n",
    "spark = SparkSession.builder.getOrCreate()\n",
    "import pandas as pd\n",
    "import pyspark.sql.functions as F\n",
    "\n"
   ]
  },
  {
   "cell_type": "code",
   "execution_count": 14,
   "metadata": {},
   "outputs": [],
   "source": [
    "#csv_file='parent_operator.csv'\n",
    "#df_csv=spark.read.csv(csv_file)"
   ]
  },
  {
   "cell_type": "code",
   "execution_count": 15,
   "metadata": {},
   "outputs": [],
   "source": [
    "parquet_file='agg_usage.parquet'\n",
    "df_parquet=spark.read.parquet(parquet_file)"
   ]
  },
  {
   "cell_type": "code",
   "execution_count": 16,
   "metadata": {},
   "outputs": [
    {
     "name": "stdout",
     "output_type": "stream",
     "text": [
      "+-------------------+------------------+-------------+--------------+-------------------+-----------------+------------+-----------+----------------------+----------------+--------------------+---------+---------+\n",
      "|actual_call_dur_sec|call_direction_ind|call_type_key|charge_amt_rur|connection_type_key|location_type_key|network_type|num_of_call|parent_operator_code_b|roaming_type_key| rounded_data_volume| time_key|client_id|\n",
      "+-------------------+------------------+-------------+--------------+-------------------+-----------------+------------+-----------+----------------------+----------------+--------------------+---------+---------+\n",
      "|              115.0|                 1|            V|           0.0|                  3|                2|           G|        1.0|                   136|               H|   1.817427842689825|P20171025|  0728799|\n",
      "|              122.0|                 2|            V|           0.0|                  3|                2|           G|        1.0|                   130|               H|   1.817427842689825|P20171025|  0728799|\n",
      "|            48278.0|                 3|            G|           0.0|                  X|                X|           L|        3.0|                   -99|               H|1.0806536452246535E8|P20171025|  0728799|\n",
      "|            15150.0|                 3|            G|           0.0|                  X|                X|           L|        2.0|                   -99|               H|1.1561004545611225E8|P20171025|  0728799|\n",
      "|            21698.0|                 3|            G|           0.0|                  X|                X|           L|        1.0|                   -99|               H|2.8808993796954613E7|P20171025|  0728799|\n",
      "|            34481.0|                 3|            G|           0.0|                  X|                X|           L|        2.0|                   -99|               H|2.3781191623708323E8|P20171021|  0728799|\n",
      "|              295.0|                 2|            V|           0.0|                  3|                2|           G|        5.0|                   130|               H|   9.087139213449124|P20171021|  0728799|\n",
      "|              113.0|                 2|            V|           0.0|                  3|                2|           G|        1.0|                   172|               H|   1.817427842689825|P20171021|  0728799|\n",
      "|              122.0|                 1|            V|           0.0|                  3|                2|           G|        1.0|                   136|               H|   1.817427842689825|P20171021|  0728799|\n",
      "|              104.0|                 2|            V|           0.0|                  3|                2|           G|        1.0|                   136|               H|   1.817427842689825|P20171021|  0728799|\n",
      "|              236.0|                 1|            V|           0.0|                  3|                2|           G|        2.0|                   130|               H|    3.63485568537965|P20171021|  0728799|\n",
      "|              121.0|                 2|            V|           0.0|                  3|                2|           G|        1.0|                   130|               H|   1.817427842689825|P20171021|  0728799|\n",
      "|            21698.0|                 3|            G|           0.0|                  X|                X|           L|        1.0|                   -99|               H|  1.97996695740181E7|P20171022|  0728799|\n",
      "|            26375.0|                 3|            G|           0.0|                  X|                X|           L|        1.0|                   -99|               H| 2.278664858203568E8|P20171024|  0736727|\n",
      "|            10391.0|                 3|            G|           0.0|                  X|                X|           L|        2.0|                   -99|               H| 1.074904873788039E9|P20171026|  0736727|\n",
      "|            38917.0|                 3|            G|           0.0|                  X|                X|           L|        1.0|                   -99|               H|4.2750834632258606E8|P20171026|  0736727|\n",
      "|              199.0|                 2|            V|           0.0|                  3|                2|           G|        2.0|                   136|               H|     7.2697113707593|P20171023|  0736727|\n",
      "|              148.0|                 2|            V|           0.0|                  3|                2|           G|        1.0|                   130|               H|    3.63485568537965|P20171023|  0736727|\n",
      "|              216.0|                 1|            V|           0.0|                  3|                2|           G|        2.0|                   130|               R|    3.63485568537965|P20171023|  0736727|\n",
      "|              134.0|                 1|            V|           0.0|                  3|                2|           G|        2.0|                   136|               R|    3.63485568537965|P20171023|  0736727|\n",
      "+-------------------+------------------+-------------+--------------+-------------------+-----------------+------------+-----------+----------------------+----------------+--------------------+---------+---------+\n",
      "only showing top 20 rows\n",
      "\n"
     ]
    }
   ],
   "source": [
    "df_parquet.show()\n"
   ]
  },
  {
   "cell_type": "code",
   "execution_count": 17,
   "metadata": {},
   "outputs": [],
   "source": [
    "#df_parquet.groupBy('client_id').count().show()\n",
    "#spark_df.filter(\"target LIKE 'good%'\")\n",
    "#col(\"target\").like(\"good%\"))\n",
    "#df_parquet.groupBy('client_id').count().where(col(\"client_id\").like(\"0737477%\"))\n",
    "#df_parquet.select('client_id',.sum('rounded_data_volume')).where(col(\"call_type_key\").like (\"G\" or \"Y\" or \"X\")).show()\n",
    "#SELECT `field` FROM `table` WHERE `field`='a' AND `field2`='b' AND `field3`='3'\n",
    "#first= df_parquet.select('client_id','rounded_data_volume','call_type_key','roaming_type_key','network_type').filter(col(\"call_type_key\")==\"G\" \n",
    "\n",
    "#first=df_parquet.select('client_id','rounded_data_volume','call_type_key','roaming_type_key','network_type').where(col(\"call_type_key\") == "
   ]
  },
  {
   "cell_type": "code",
   "execution_count": 18,
   "metadata": {},
   "outputs": [],
   "source": [
    "df_parquet.createOrReplaceTempView(\"abonenti\")\n"
   ]
  },
  {
   "cell_type": "code",
   "execution_count": 19,
   "metadata": {},
   "outputs": [
    {
     "name": "stdout",
     "output_type": "stream",
     "text": [
      "+---------+---------+--------------------+-------------+----------------+------------+\n",
      "|client_id| time_key| rounded_data_volume|call_type_key|roaming_type_key|network_type|\n",
      "+---------+---------+--------------------+-------------+----------------+------------+\n",
      "|  0728799|P20171025|1.0806536452246535E8|            G|               H|           L|\n",
      "|  0728799|P20171025|1.1561004545611225E8|            G|               H|           L|\n",
      "|  0728799|P20171025|2.8808993796954613E7|            G|               H|           L|\n",
      "|  0728799|P20171021|2.3781191623708323E8|            G|               H|           L|\n",
      "|  0728799|P20171022|  1.97996695740181E7|            G|               H|           L|\n",
      "|  0736727|P20171024| 2.278664858203568E8|            G|               H|           L|\n",
      "|  0736727|P20171026| 1.074904873788039E9|            G|               H|           L|\n",
      "|  0736727|P20171026|4.2750834632258606E8|            G|               H|           L|\n",
      "|  0736727|P20171023| 4.085852294668086E8|            G|               H|           L|\n",
      "|  0736727|P20171022| 2.345344279311519E9|            G|               H|           L|\n",
      "|  0736727|P20171022| 2.058037841754668E8|            G|               H|           L|\n",
      "|  0736727|P20171020|2.1626323552802777E9|            G|               H|           L|\n",
      "|  0736727|P20171020| 3.638419588682051E8|            G|               H|           L|\n",
      "|  0736727|P20171024|  26054.645552801332|            G|               H|           L|\n",
      "|  0736727|P20171025|2.7268978140172963E9|            G|               H|           L|\n",
      "|  0736727|P20171025|1.9477522492218816E8|            G|               H|           L|\n",
      "|  0736727|P20171021| 2.966916930941924E8|            G|               H|           L|\n",
      "|  0736727|P20171021|1.5856354800984943E9|            G|               H|           L|\n",
      "|  0725047|P20171025|1.0545245578274156E8|            G|               R|           L|\n",
      "|  0725047|P20171025|3.3370790024027944E8|            G|               R|           L|\n",
      "+---------+---------+--------------------+-------------+----------------+------------+\n",
      "only showing top 20 rows\n",
      "\n"
     ]
    }
   ],
   "source": [
    "first_part = spark.sql(\"SELECT client_id,time_key, rounded_data_volume, call_type_key, roaming_type_key, network_type FROM abonenti WHERE call_type_key IN ('X','G','Y') AND roaming_type_key IN ('X','R','H') AND network_type =='L'\")\n",
    "first_part.show()"
   ]
  },
  {
   "cell_type": "code",
   "execution_count": 20,
   "metadata": {
    "scrolled": true
   },
   "outputs": [
    {
     "name": "stdout",
     "output_type": "stream",
     "text": [
      "+---------+---------+--------------------+-------------+----------------+------------+----------------------+\n",
      "|client_id| time_key| rounded_data_volume|call_type_key|roaming_type_key|network_type|rounded_data_volume_MB|\n",
      "+---------+---------+--------------------+-------------+----------------+------------+----------------------+\n",
      "|  0728799|P20171025|1.0806536452246535E8|            G|               H|           L|    12.882395329769295|\n",
      "|  0728799|P20171025|1.1561004545611225E8|            G|               H|           L|    13.781791383756667|\n",
      "|  0728799|P20171025|2.8808993796954613E7|            G|               H|           L|    3.4342996832078234|\n",
      "|  0728799|P20171021|2.3781191623708323E8|            G|               H|           L|     28.34938958133259|\n",
      "|  0728799|P20171022|  1.97996695740181E7|            G|               H|           L|     2.360304543258917|\n",
      "|  0736727|P20171024| 2.278664858203568E8|            G|               H|           L|    27.163801887077902|\n",
      "|  0736727|P20171026| 1.074904873788039E9|            G|               H|           L|     128.1386463389443|\n",
      "|  0736727|P20171026|4.2750834632258606E8|            G|               H|           L|     50.96296624214483|\n",
      "|  0736727|P20171023| 4.085852294668086E8|            G|               H|           L|     48.70715492568119|\n",
      "|  0736727|P20171022| 2.345344279311519E9|            G|               H|           L|    279.58682528871526|\n",
      "|  0736727|P20171022| 2.058037841754668E8|            G|               H|           L|    24.533722898419715|\n",
      "|  0736727|P20171020|2.1626323552802777E9|            G|               H|           L|    257.80586663249466|\n",
      "|  0736727|P20171020| 3.638419588682051E8|            G|               H|           L|      43.3733414254433|\n",
      "|  0736727|P20171024|  26054.645552801332|            G|               H|           L|  0.003105955785846869|\n",
      "|  0736727|P20171025|2.7268978140172963E9|            G|               H|           L|     325.0715510865803|\n",
      "|  0736727|P20171025|1.9477522492218816E8|            G|               H|           L|    23.219016185067673|\n",
      "|  0736727|P20171021| 2.966916930941924E8|            G|               H|           L|    35.368405949377106|\n",
      "|  0736727|P20171021|1.5856354800984943E9|            G|               H|           L|    189.02247906905345|\n",
      "|  0725047|P20171025|1.0545245578274156E8|            G|               R|           L|    12.570912335245795|\n",
      "|  0725047|P20171025|3.3370790024027944E8|            G|               R|           L|    39.781081705126695|\n",
      "+---------+---------+--------------------+-------------+----------------+------------+----------------------+\n",
      "only showing top 20 rows\n",
      "\n"
     ]
    }
   ],
   "source": [
    "first_part=first_part.withColumn('rounded_data_volume_MB', first_part['rounded_data_volume']/(1024*8*1024))\n",
    "first_part.show()"
   ]
  },
  {
   "cell_type": "code",
   "execution_count": 21,
   "metadata": {},
   "outputs": [],
   "source": [
    "first_part=first_part.groupBy(\"client_id\",\"time_key\").agg({\"rounded_data_volume_MB\":\"sum\"})\n"
   ]
  },
  {
   "cell_type": "code",
   "execution_count": 22,
   "metadata": {},
   "outputs": [
    {
     "name": "stdout",
     "output_type": "stream",
     "text": [
      "+---------+---------+---------------------------+\n",
      "|client_id| time_key|sum(rounded_data_volume_MB)|\n",
      "+---------+---------+---------------------------+\n",
      "|  0730208|P20171025|         13.517119580005573|\n",
      "|  0725527|P20171021|         118.54035554473869|\n",
      "|  0734188|P20171020|         294.24871142979015|\n",
      "|  0733202|P20171021|          61.99598675542702|\n",
      "|  0731839|P20171026|           812.061679931006|\n",
      "|  0732443|P20171020|          33.47843185368929|\n",
      "|  0719068|P20171025|         23.228999614379326|\n",
      "|  0728027|P20171026|         198.96198129173283|\n",
      "|  0725965|P20171025|          7.653962472265498|\n",
      "|  0731845|P20171023|          9.143933833533183|\n",
      "|  0734959|P20171021|         236.01714308680948|\n",
      "|  0736365|P20171023|         295.41677265925324|\n",
      "|  0737693|P20171021|          277.4954077749167|\n",
      "|  0723598|P20171024|         445.05240455399786|\n",
      "|  0723497|P20171022|       0.004215225709363607|\n",
      "|  0729936|P20171025|          1.817427842689825|\n",
      "|  0727882|P20171024|           4.60369203657917|\n",
      "|  0731434|P20171021|          211.8894129803969|\n",
      "|  0729541|P20171022|          9.751148189666244|\n",
      "|  0729517|P20171023|          41.36933438161797|\n",
      "+---------+---------+---------------------------+\n",
      "only showing top 20 rows\n",
      "\n"
     ]
    }
   ],
   "source": [
    "first_part.show()"
   ]
  },
  {
   "cell_type": "code",
   "execution_count": 26,
   "metadata": {},
   "outputs": [],
   "source": [
    "#ne_huinya = first_part.groupBy('client_id', 'time_key').agg({'rounded_data_volume' : 'sum'}).where((df_parquet.call_type_key == 'G' | df_parquet.call_type_key == 'Y' | df_parquet.call_type_key == 'X') & (df_parquet.roaming_type_key == 'X' | df_parquet.roaming_type_key == 'R' | df_parquet.roaming_type_key == 'H') & df_parquet.network_type == 'L')\n",
    "#ne_huinya.show()"
   ]
  },
  {
   "cell_type": "code",
   "execution_count": 27,
   "metadata": {},
   "outputs": [],
   "source": [
    "second_part = spark.sql(\"SELECT client_id,time_key, rounded_data_volume, call_type_key, roaming_type_key, network_type FROM abonenti WHERE call_type_key IN ('X','G','Y') AND roaming_type_key IN ('X','R','H')\")\n",
    "second_part=second_part.withColumn('rounded_data_volume_MB', second_part['rounded_data_volume']/(1024*8*1024))\n",
    "second_part=second_part.groupBy(\"client_id\",\"time_key\").agg({\"rounded_data_volume_MB\":\"sum\"})\n"
   ]
  },
  {
   "cell_type": "code",
   "execution_count": 29,
   "metadata": {},
   "outputs": [
    {
     "name": "stdout",
     "output_type": "stream",
     "text": [
      "+---------+---------+---------------------------+\n",
      "|client_id| time_key|sum(rounded_data_volume_MB)|\n",
      "+---------+---------+---------------------------+\n",
      "|  0730208|P20171025|         13.517119580005573|\n",
      "|  0725527|P20171021|         123.22502428573458|\n",
      "|  0734188|P20171020|         358.49518500604785|\n",
      "|  0733202|P20171021|          67.25503546281988|\n",
      "|  0722239|P20171025|         120.07181360114589|\n",
      "|  0731839|P20171026|           812.061679931006|\n",
      "|  0732443|P20171020|          41.92885013103981|\n",
      "|  0719068|P20171025|          23.34258885454744|\n",
      "|  0728027|P20171026|         199.30896092380888|\n",
      "|  0731590|P20171020|          1.337779527761187|\n",
      "|  0725965|P20171025|         22.994721806532592|\n",
      "|  0731845|P20171023|          9.143933833533183|\n",
      "|  0734959|P20171021|         268.59773186440435|\n",
      "|  0736365|P20171023|          304.1655845460298|\n",
      "|  0737693|P20171021|          277.4954077749167|\n",
      "|  0723598|P20171024|         445.05240455399786|\n",
      "|  0723497|P20171022|        0.12734418721972163|\n",
      "|  0723674|P20171022|          55.43154920203966|\n",
      "|  0729936|P20171025|          1.931017082857939|\n",
      "|  0722165|P20171023|        0.09961243913180315|\n",
      "+---------+---------+---------------------------+\n",
      "only showing top 20 rows\n",
      "\n"
     ]
    }
   ],
   "source": [
    "second_part.show()"
   ]
  },
  {
   "cell_type": "code",
   "execution_count": null,
   "metadata": {},
   "outputs": [],
   "source": []
  },
  {
   "cell_type": "code",
   "execution_count": 30,
   "metadata": {},
   "outputs": [],
   "source": [
    "third_part = spark.sql(\"SELECT client_id,time_key, rounded_data_volume, call_type_key, roaming_type_key, network_type FROM abonenti WHERE call_type_key IN ('X','G','Y') AND roaming_type_key IN ('X','R','H') AND network_type =='G'\")\n",
    "third_part=third_part.withColumn('rounded_data_volume_MB', third_part['rounded_data_volume']/(1024*8*1024))\n",
    "third_part=third_part.groupBy(\"client_id\",\"time_key\").agg({\"rounded_data_volume_MB\":\"sum\"})\n"
   ]
  },
  {
   "cell_type": "code",
   "execution_count": 31,
   "metadata": {},
   "outputs": [
    {
     "name": "stdout",
     "output_type": "stream",
     "text": [
      "+---------+---------+---------------------------+\n",
      "|client_id| time_key|sum(rounded_data_volume_MB)|\n",
      "+---------+---------+---------------------------+\n",
      "|  0725527|P20171021|          4.684668740995892|\n",
      "|  0734188|P20171020|          64.24647357625778|\n",
      "|  0733202|P20171021|          5.259048707392859|\n",
      "|  0722239|P20171025|         120.07181360114589|\n",
      "|  0732443|P20171020|          8.450418277350517|\n",
      "|  0719068|P20171025|        0.11358924016811406|\n",
      "|  0728027|P20171026|        0.34697963207603594|\n",
      "|  0720438|P20171020|           9.93905851470998|\n",
      "|  0731590|P20171020|          1.337779527761187|\n",
      "|  0725965|P20171025|         15.340759334267092|\n",
      "|  0734959|P20171021|          32.58058877759483|\n",
      "|  0736365|P20171023|          8.748811886776519|\n",
      "|  0723497|P20171022|        0.12312896151035801|\n",
      "|  0723674|P20171022|          55.43154920203966|\n",
      "|  0729936|P20171025|        0.11358924016811406|\n",
      "|  0722165|P20171023|        0.09961243913180315|\n",
      "|  0727882|P20171024|         0.0148642169751243|\n",
      "|  0731434|P20171021|        0.32035715391163416|\n",
      "|  0737477|P20171024|       0.018413880730377866|\n",
      "|  0729517|P20171023|          1.252143889665695|\n",
      "+---------+---------+---------------------------+\n",
      "only showing top 20 rows\n",
      "\n"
     ]
    }
   ],
   "source": [
    "third_part.show()"
   ]
  },
  {
   "cell_type": "code",
   "execution_count": null,
   "metadata": {},
   "outputs": [],
   "source": []
  },
  {
   "cell_type": "code",
   "execution_count": null,
   "metadata": {},
   "outputs": [],
   "source": []
  },
  {
   "cell_type": "code",
   "execution_count": null,
   "metadata": {},
   "outputs": [],
   "source": []
  },
  {
   "cell_type": "code",
   "execution_count": null,
   "metadata": {},
   "outputs": [],
   "source": []
  },
  {
   "cell_type": "code",
   "execution_count": null,
   "metadata": {},
   "outputs": [],
   "source": []
  },
  {
   "cell_type": "code",
   "execution_count": null,
   "metadata": {},
   "outputs": [],
   "source": []
  },
  {
   "cell_type": "code",
   "execution_count": null,
   "metadata": {},
   "outputs": [],
   "source": []
  },
  {
   "cell_type": "code",
   "execution_count": null,
   "metadata": {},
   "outputs": [],
   "source": []
  },
  {
   "cell_type": "code",
   "execution_count": null,
   "metadata": {},
   "outputs": [],
   "source": []
  },
  {
   "cell_type": "code",
   "execution_count": null,
   "metadata": {},
   "outputs": [],
   "source": []
  },
  {
   "cell_type": "code",
   "execution_count": null,
   "metadata": {},
   "outputs": [],
   "source": []
  },
  {
   "cell_type": "code",
   "execution_count": null,
   "metadata": {},
   "outputs": [],
   "source": []
  }
 ],
 "metadata": {
  "kernelspec": {
   "display_name": "Python 3",
   "language": "python",
   "name": "python3"
  },
  "language_info": {
   "codemirror_mode": {
    "name": "ipython",
    "version": 3
   },
   "file_extension": ".py",
   "mimetype": "text/x-python",
   "name": "python",
   "nbconvert_exporter": "python",
   "pygments_lexer": "ipython3",
   "version": "3.8.8"
  }
 },
 "nbformat": 4,
 "nbformat_minor": 4
}
